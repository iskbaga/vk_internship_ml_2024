{
  "metadata": {
    "kernelspec": {
      "language": "python",
      "display_name": "Python 3",
      "name": "python3"
    },
    "language_info": {
      "name": "python",
      "version": "3.10.13",
      "mimetype": "text/x-python",
      "codemirror_mode": {
        "name": "ipython",
        "version": 3
      },
      "pygments_lexer": "ipython3",
      "nbconvert_exporter": "python",
      "file_extension": ".py"
    },
    "kaggle": {
      "accelerator": "gpu",
      "dataSources": [
        {
          "sourceId": 7162,
          "databundleVersionId": 44320,
          "sourceType": "competition"
        },
        {
          "sourceId": 1099432,
          "sourceType": "datasetVersion",
          "datasetId": 614805
        },
        {
          "sourceId": 3271925,
          "sourceType": "datasetVersion",
          "datasetId": 1982034
        }
      ],
      "isInternetEnabled": true,
      "language": "python",
      "sourceType": "notebook",
      "isGpuEnabled": true
    },
    "colab": {
      "provenance": []
    }
  },
  "nbformat_minor": 0,
  "nbformat": 4,
  "cells": [
    {
      "cell_type": "markdown",
      "source": [
        "#Решение с помощью LightFM"
      ],
      "metadata": {
        "id": "1ixwpM3HgJAm"
      }
    },
    {
      "cell_type": "code",
      "source": [
        "!pip install LightFM\n",
        "!pip install datatable"
      ],
      "metadata": {
        "execution": {
          "iopub.status.busy": "2024-04-01T23:58:12.228941Z",
          "iopub.execute_input": "2024-04-01T23:58:12.229342Z",
          "iopub.status.idle": "2024-04-01T23:58:58.686295Z",
          "shell.execute_reply.started": "2024-04-01T23:58:12.229309Z",
          "shell.execute_reply": "2024-04-01T23:58:58.685025Z"
        },
        "trusted": true,
        "id": "AmjJpoVegJAn"
      },
      "execution_count": null,
      "outputs": []
    },
    {
      "cell_type": "code",
      "source": [
        "import numpy as np\n",
        "import pandas as pd\n",
        "import datatable as dt\n",
        "from sklearn.preprocessing import LabelEncoder\n",
        "import scipy.sparse as sp\n",
        "from lightfm import LightFM\n",
        "from sklearn.model_selection import train_test_split"
      ],
      "metadata": {
        "execution": {
          "iopub.status.busy": "2024-04-02T00:01:21.615531Z",
          "iopub.execute_input": "2024-04-02T00:01:21.615955Z",
          "iopub.status.idle": "2024-04-02T00:01:21.809325Z",
          "shell.execute_reply.started": "2024-04-02T00:01:21.615921Z",
          "shell.execute_reply": "2024-04-02T00:01:21.808536Z"
        },
        "trusted": true,
        "id": "Ojec2oAWgJAo",
        "colab": {
          "base_uri": "https://localhost:8080/",
          "height": 17
        },
        "outputId": "520aa664-d083-4b84-d985-55ac14b38b6f"
      },
      "execution_count": 2,
      "outputs": [
        {
          "output_type": "display_data",
          "data": {
            "text/plain": [
              "<IPython.core.display.HTML object>"
            ],
            "text/html": [
              "<style type='text/css'>\n",
              ".datatable table.frame { margin-bottom: 0; }\n",
              ".datatable table.frame thead { border-bottom: none; }\n",
              ".datatable table.frame tr.coltypes td {  color: #FFFFFF;  line-height: 6px;  padding: 0 0.5em;}\n",
              ".datatable .bool    { background: #DDDD99; }\n",
              ".datatable .object  { background: #565656; }\n",
              ".datatable .int     { background: #5D9E5D; }\n",
              ".datatable .float   { background: #4040CC; }\n",
              ".datatable .str     { background: #CC4040; }\n",
              ".datatable .time    { background: #40CC40; }\n",
              ".datatable .row_index {  background: var(--jp-border-color3);  border-right: 1px solid var(--jp-border-color0);  color: var(--jp-ui-font-color3);  font-size: 9px;}\n",
              ".datatable .frame tbody td { text-align: left; }\n",
              ".datatable .frame tr.coltypes .row_index {  background: var(--jp-border-color0);}\n",
              ".datatable th:nth-child(2) { padding-left: 12px; }\n",
              ".datatable .hellipsis {  color: var(--jp-cell-editor-border-color);}\n",
              ".datatable .vellipsis {  background: var(--jp-layout-color0);  color: var(--jp-cell-editor-border-color);}\n",
              ".datatable .na {  color: var(--jp-cell-editor-border-color);  font-size: 80%;}\n",
              ".datatable .sp {  opacity: 0.25;}\n",
              ".datatable .footer { font-size: 9px; }\n",
              ".datatable .frame_dimensions {  background: var(--jp-border-color3);  border-top: 1px solid var(--jp-border-color0);  color: var(--jp-ui-font-color3);  display: inline-block;  opacity: 0.6;  padding: 1px 10px 1px 5px;}\n",
              "</style>\n"
            ]
          },
          "metadata": {}
        }
      ]
    },
    {
      "cell_type": "code",
      "source": [
        "from google.colab import drive\n",
        "drive.mount(\"/gdrive\", force_remount=True)"
      ],
      "metadata": {
        "execution": {
          "iopub.status.busy": "2024-04-01T23:06:05.426419Z",
          "iopub.execute_input": "2024-04-01T23:06:05.427345Z",
          "iopub.status.idle": "2024-04-01T23:06:32.259694Z",
          "shell.execute_reply.started": "2024-04-01T23:06:05.427299Z",
          "shell.execute_reply": "2024-04-01T23:06:32.258657Z"
        },
        "trusted": true,
        "colab": {
          "base_uri": "https://localhost:8080/"
        },
        "id": "xmDGFNcvgJAp",
        "outputId": "4b7eea78-6e87-45ce-a1a1-3d32f114c840"
      },
      "execution_count": 3,
      "outputs": [
        {
          "output_type": "stream",
          "name": "stdout",
          "text": [
            "Mounted at /gdrive\n"
          ]
        }
      ]
    },
    {
      "cell_type": "code",
      "source": [
        "train = dt.fread('/gdrive/MyDrive/vk_contest/train.csv').to_pandas()\n",
        "train, test= train_test_split(train, test_size=0.2, random_state=42)\n",
        "songs = dt.fread('/gdrive/MyDrive/vk_contest/songs.csv').to_pandas()\n",
        "members = dt.fread('/gdrive/MyDrive/vk_contest/members.csv').to_pandas()\n",
        "songs_extra_info = dt.fread('/gdrive/MyDrive/vk_contest/song_extra_info.csv',fill=True).to_pandas()"
      ],
      "metadata": {
        "execution": {
          "iopub.status.busy": "2024-04-02T00:02:07.918853Z",
          "iopub.execute_input": "2024-04-02T00:02:07.919144Z",
          "iopub.status.idle": "2024-04-02T00:02:50.241646Z",
          "shell.execute_reply.started": "2024-04-02T00:02:07.919119Z",
          "shell.execute_reply": "2024-04-02T00:02:50.240800Z"
        },
        "trusted": true,
        "id": "WFOdlEG4gJAp"
      },
      "execution_count": 4,
      "outputs": []
    },
    {
      "cell_type": "code",
      "source": [
        "test.info()"
      ],
      "metadata": {
        "colab": {
          "base_uri": "https://localhost:8080/"
        },
        "id": "WzwmZPTtdFGD",
        "outputId": "d707256a-e7cc-4252-ae23-08b700680090"
      },
      "execution_count": 5,
      "outputs": [
        {
          "output_type": "stream",
          "name": "stdout",
          "text": [
            "<class 'pandas.core.frame.DataFrame'>\n",
            "Index: 1475484 entries, 1919950 to 6256130\n",
            "Data columns (total 6 columns):\n",
            " #   Column              Non-Null Count    Dtype \n",
            "---  ------              --------------    ----- \n",
            " 0   msno                1475484 non-null  object\n",
            " 1   song_id             1475484 non-null  object\n",
            " 2   source_system_tab   1475484 non-null  object\n",
            " 3   source_screen_name  1475484 non-null  object\n",
            " 4   source_type         1475484 non-null  object\n",
            " 5   target              1475484 non-null  bool  \n",
            "dtypes: bool(1), object(5)\n",
            "memory usage: 68.9+ MB\n"
          ]
        }
      ]
    },
    {
      "cell_type": "markdown",
      "source": [
        "##Обработка данных"
      ],
      "metadata": {
        "id": "90o0bhmUUOKZ"
      }
    },
    {
      "cell_type": "code",
      "source": [
        "for i in train.columns:\n",
        "    if train[i].dtype == object:\n",
        "        train[i] = train[i].astype('category')\n",
        "        test[i] = test[i].astype('category')\n",
        "train.info()"
      ],
      "metadata": {
        "execution": {
          "iopub.status.busy": "2024-04-02T00:02:57.631207Z",
          "iopub.execute_input": "2024-04-02T00:02:57.631587Z",
          "iopub.status.idle": "2024-04-02T00:03:07.104947Z",
          "shell.execute_reply.started": "2024-04-02T00:02:57.631554Z",
          "shell.execute_reply": "2024-04-02T00:03:07.103897Z"
        },
        "trusted": true,
        "colab": {
          "base_uri": "https://localhost:8080/"
        },
        "id": "RhVf2EjzgJAr",
        "outputId": "b9e0aedd-c43c-4614-ecee-e4785fdd15d0"
      },
      "execution_count": 6,
      "outputs": [
        {
          "output_type": "stream",
          "name": "stdout",
          "text": [
            "<class 'pandas.core.frame.DataFrame'>\n",
            "Index: 5901934 entries, 169102 to 6413414\n",
            "Data columns (total 6 columns):\n",
            " #   Column              Dtype   \n",
            "---  ------              -----   \n",
            " 0   msno                category\n",
            " 1   song_id             category\n",
            " 2   source_system_tab   category\n",
            " 3   source_screen_name  category\n",
            " 4   source_type         category\n",
            " 5   target              bool    \n",
            "dtypes: bool(1), category(5)\n",
            "memory usage: 113.1 MB\n"
          ]
        }
      ]
    },
    {
      "cell_type": "markdown",
      "source": [
        "Конкатенация двух таблиц для получения названия песен для дальнейшего удобства\n"
      ],
      "metadata": {
        "id": "GmPacBbgUTAm"
      }
    },
    {
      "cell_type": "code",
      "source": [
        "train= train.merge(songs_extra_info, on= 'song_id', how='left')\n",
        "train.head()"
      ],
      "metadata": {
        "execution": {
          "iopub.status.busy": "2024-04-02T00:03:07.106088Z",
          "iopub.execute_input": "2024-04-02T00:03:07.106376Z",
          "iopub.status.idle": "2024-04-02T00:03:12.410196Z",
          "shell.execute_reply.started": "2024-04-02T00:03:07.106350Z",
          "shell.execute_reply": "2024-04-02T00:03:12.408970Z"
        },
        "trusted": true,
        "colab": {
          "base_uri": "https://localhost:8080/",
          "height": 428
        },
        "id": "8oSDv6G4gJAs",
        "outputId": "96afc15f-6e12-45b1-9bb3-92b83f2e8dc3"
      },
      "execution_count": 7,
      "outputs": [
        {
          "output_type": "execute_result",
          "data": {
            "text/plain": [
              "                                           msno  \\\n",
              "0  YBSM6gZ4bPXjRv2nCRVoMR2Ddyh4RIyp1JVh2bQFnUk=   \n",
              "1  w8lMQ9t/toEY+/cKrSN+BkRasE9FUFv5QmSwP2c4XB8=   \n",
              "2  Q1Xh9pYdTxM6RYQNhRTqRAfUBuEC5qsN9n2cXNWsBs4=   \n",
              "3  V4Ea+MmSuwt84YeOA3/OGLuwx6jQijmr5odemTCBG0w=   \n",
              "4  MNJ6q6jkfwi6wZQIm21c+1PR8kJKtg4scYybI00P5jg=   \n",
              "\n",
              "                                        song_id source_system_tab  \\\n",
              "0  c2bp6xlq7o3Pj6x95ddX67S/wGsP6qPN/8PqM1DL0a8=        my library   \n",
              "1  KhSthXAh2CKFiZ2Bx3X5vMUId/Z6419TRTgD6KSpVH4=            search   \n",
              "2  EUUnpIrpI9QY9FVBsNjEL8TvXGjsCLQ0syQt/QV9j50=        my library   \n",
              "3  7EnDBkQYJpipCyRd9JBsug4iKnfAunUXc14/96cNotg=          discover   \n",
              "4  cy10N2j2sdY/X4BDUcMu2Iumfz7pV3tqE5iEaup2yGI=        my library   \n",
              "\n",
              "    source_screen_name          source_type  target                 name  \\\n",
              "0  Local playlist more        local-library    True         This is love   \n",
              "1           Album more                album    True    大太陽 (The Big Sun)   \n",
              "2  Local playlist more       local-playlist    True                 同手同腳   \n",
              "3     Discover Feature  song-based-playlist    True     聽見下雨的聲音 (演唱：魏如昀)   \n",
              "4  Local playlist more       local-playlist    True  派對動物 (Party Animal)   \n",
              "\n",
              "           isrc  \n",
              "0  TWA471602005  \n",
              "1  TWA531651911  \n",
              "2  TWF710700026  \n",
              "3  TWL251305201  \n",
              "4  TWK231680790  "
            ],
            "text/html": [
              "\n",
              "  <div id=\"df-24def603-ffc8-4352-a3d5-1558c3aaebcb\" class=\"colab-df-container\">\n",
              "    <div>\n",
              "<style scoped>\n",
              "    .dataframe tbody tr th:only-of-type {\n",
              "        vertical-align: middle;\n",
              "    }\n",
              "\n",
              "    .dataframe tbody tr th {\n",
              "        vertical-align: top;\n",
              "    }\n",
              "\n",
              "    .dataframe thead th {\n",
              "        text-align: right;\n",
              "    }\n",
              "</style>\n",
              "<table border=\"1\" class=\"dataframe\">\n",
              "  <thead>\n",
              "    <tr style=\"text-align: right;\">\n",
              "      <th></th>\n",
              "      <th>msno</th>\n",
              "      <th>song_id</th>\n",
              "      <th>source_system_tab</th>\n",
              "      <th>source_screen_name</th>\n",
              "      <th>source_type</th>\n",
              "      <th>target</th>\n",
              "      <th>name</th>\n",
              "      <th>isrc</th>\n",
              "    </tr>\n",
              "  </thead>\n",
              "  <tbody>\n",
              "    <tr>\n",
              "      <th>0</th>\n",
              "      <td>YBSM6gZ4bPXjRv2nCRVoMR2Ddyh4RIyp1JVh2bQFnUk=</td>\n",
              "      <td>c2bp6xlq7o3Pj6x95ddX67S/wGsP6qPN/8PqM1DL0a8=</td>\n",
              "      <td>my library</td>\n",
              "      <td>Local playlist more</td>\n",
              "      <td>local-library</td>\n",
              "      <td>True</td>\n",
              "      <td>This is love</td>\n",
              "      <td>TWA471602005</td>\n",
              "    </tr>\n",
              "    <tr>\n",
              "      <th>1</th>\n",
              "      <td>w8lMQ9t/toEY+/cKrSN+BkRasE9FUFv5QmSwP2c4XB8=</td>\n",
              "      <td>KhSthXAh2CKFiZ2Bx3X5vMUId/Z6419TRTgD6KSpVH4=</td>\n",
              "      <td>search</td>\n",
              "      <td>Album more</td>\n",
              "      <td>album</td>\n",
              "      <td>True</td>\n",
              "      <td>大太陽 (The Big Sun)</td>\n",
              "      <td>TWA531651911</td>\n",
              "    </tr>\n",
              "    <tr>\n",
              "      <th>2</th>\n",
              "      <td>Q1Xh9pYdTxM6RYQNhRTqRAfUBuEC5qsN9n2cXNWsBs4=</td>\n",
              "      <td>EUUnpIrpI9QY9FVBsNjEL8TvXGjsCLQ0syQt/QV9j50=</td>\n",
              "      <td>my library</td>\n",
              "      <td>Local playlist more</td>\n",
              "      <td>local-playlist</td>\n",
              "      <td>True</td>\n",
              "      <td>同手同腳</td>\n",
              "      <td>TWF710700026</td>\n",
              "    </tr>\n",
              "    <tr>\n",
              "      <th>3</th>\n",
              "      <td>V4Ea+MmSuwt84YeOA3/OGLuwx6jQijmr5odemTCBG0w=</td>\n",
              "      <td>7EnDBkQYJpipCyRd9JBsug4iKnfAunUXc14/96cNotg=</td>\n",
              "      <td>discover</td>\n",
              "      <td>Discover Feature</td>\n",
              "      <td>song-based-playlist</td>\n",
              "      <td>True</td>\n",
              "      <td>聽見下雨的聲音 (演唱：魏如昀)</td>\n",
              "      <td>TWL251305201</td>\n",
              "    </tr>\n",
              "    <tr>\n",
              "      <th>4</th>\n",
              "      <td>MNJ6q6jkfwi6wZQIm21c+1PR8kJKtg4scYybI00P5jg=</td>\n",
              "      <td>cy10N2j2sdY/X4BDUcMu2Iumfz7pV3tqE5iEaup2yGI=</td>\n",
              "      <td>my library</td>\n",
              "      <td>Local playlist more</td>\n",
              "      <td>local-playlist</td>\n",
              "      <td>True</td>\n",
              "      <td>派對動物 (Party Animal)</td>\n",
              "      <td>TWK231680790</td>\n",
              "    </tr>\n",
              "  </tbody>\n",
              "</table>\n",
              "</div>\n",
              "    <div class=\"colab-df-buttons\">\n",
              "\n",
              "  <div class=\"colab-df-container\">\n",
              "    <button class=\"colab-df-convert\" onclick=\"convertToInteractive('df-24def603-ffc8-4352-a3d5-1558c3aaebcb')\"\n",
              "            title=\"Convert this dataframe to an interactive table.\"\n",
              "            style=\"display:none;\">\n",
              "\n",
              "  <svg xmlns=\"http://www.w3.org/2000/svg\" height=\"24px\" viewBox=\"0 -960 960 960\">\n",
              "    <path d=\"M120-120v-720h720v720H120Zm60-500h600v-160H180v160Zm220 220h160v-160H400v160Zm0 220h160v-160H400v160ZM180-400h160v-160H180v160Zm440 0h160v-160H620v160ZM180-180h160v-160H180v160Zm440 0h160v-160H620v160Z\"/>\n",
              "  </svg>\n",
              "    </button>\n",
              "\n",
              "  <style>\n",
              "    .colab-df-container {\n",
              "      display:flex;\n",
              "      gap: 12px;\n",
              "    }\n",
              "\n",
              "    .colab-df-convert {\n",
              "      background-color: #E8F0FE;\n",
              "      border: none;\n",
              "      border-radius: 50%;\n",
              "      cursor: pointer;\n",
              "      display: none;\n",
              "      fill: #1967D2;\n",
              "      height: 32px;\n",
              "      padding: 0 0 0 0;\n",
              "      width: 32px;\n",
              "    }\n",
              "\n",
              "    .colab-df-convert:hover {\n",
              "      background-color: #E2EBFA;\n",
              "      box-shadow: 0px 1px 2px rgba(60, 64, 67, 0.3), 0px 1px 3px 1px rgba(60, 64, 67, 0.15);\n",
              "      fill: #174EA6;\n",
              "    }\n",
              "\n",
              "    .colab-df-buttons div {\n",
              "      margin-bottom: 4px;\n",
              "    }\n",
              "\n",
              "    [theme=dark] .colab-df-convert {\n",
              "      background-color: #3B4455;\n",
              "      fill: #D2E3FC;\n",
              "    }\n",
              "\n",
              "    [theme=dark] .colab-df-convert:hover {\n",
              "      background-color: #434B5C;\n",
              "      box-shadow: 0px 1px 3px 1px rgba(0, 0, 0, 0.15);\n",
              "      filter: drop-shadow(0px 1px 2px rgba(0, 0, 0, 0.3));\n",
              "      fill: #FFFFFF;\n",
              "    }\n",
              "  </style>\n",
              "\n",
              "    <script>\n",
              "      const buttonEl =\n",
              "        document.querySelector('#df-24def603-ffc8-4352-a3d5-1558c3aaebcb button.colab-df-convert');\n",
              "      buttonEl.style.display =\n",
              "        google.colab.kernel.accessAllowed ? 'block' : 'none';\n",
              "\n",
              "      async function convertToInteractive(key) {\n",
              "        const element = document.querySelector('#df-24def603-ffc8-4352-a3d5-1558c3aaebcb');\n",
              "        const dataTable =\n",
              "          await google.colab.kernel.invokeFunction('convertToInteractive',\n",
              "                                                    [key], {});\n",
              "        if (!dataTable) return;\n",
              "\n",
              "        const docLinkHtml = 'Like what you see? Visit the ' +\n",
              "          '<a target=\"_blank\" href=https://colab.research.google.com/notebooks/data_table.ipynb>data table notebook</a>'\n",
              "          + ' to learn more about interactive tables.';\n",
              "        element.innerHTML = '';\n",
              "        dataTable['output_type'] = 'display_data';\n",
              "        await google.colab.output.renderOutput(dataTable, element);\n",
              "        const docLink = document.createElement('div');\n",
              "        docLink.innerHTML = docLinkHtml;\n",
              "        element.appendChild(docLink);\n",
              "      }\n",
              "    </script>\n",
              "  </div>\n",
              "\n",
              "\n",
              "<div id=\"df-e93c2ad1-85f9-4d6d-8a08-eb221baf9fd1\">\n",
              "  <button class=\"colab-df-quickchart\" onclick=\"quickchart('df-e93c2ad1-85f9-4d6d-8a08-eb221baf9fd1')\"\n",
              "            title=\"Suggest charts\"\n",
              "            style=\"display:none;\">\n",
              "\n",
              "<svg xmlns=\"http://www.w3.org/2000/svg\" height=\"24px\"viewBox=\"0 0 24 24\"\n",
              "     width=\"24px\">\n",
              "    <g>\n",
              "        <path d=\"M19 3H5c-1.1 0-2 .9-2 2v14c0 1.1.9 2 2 2h14c1.1 0 2-.9 2-2V5c0-1.1-.9-2-2-2zM9 17H7v-7h2v7zm4 0h-2V7h2v10zm4 0h-2v-4h2v4z\"/>\n",
              "    </g>\n",
              "</svg>\n",
              "  </button>\n",
              "\n",
              "<style>\n",
              "  .colab-df-quickchart {\n",
              "      --bg-color: #E8F0FE;\n",
              "      --fill-color: #1967D2;\n",
              "      --hover-bg-color: #E2EBFA;\n",
              "      --hover-fill-color: #174EA6;\n",
              "      --disabled-fill-color: #AAA;\n",
              "      --disabled-bg-color: #DDD;\n",
              "  }\n",
              "\n",
              "  [theme=dark] .colab-df-quickchart {\n",
              "      --bg-color: #3B4455;\n",
              "      --fill-color: #D2E3FC;\n",
              "      --hover-bg-color: #434B5C;\n",
              "      --hover-fill-color: #FFFFFF;\n",
              "      --disabled-bg-color: #3B4455;\n",
              "      --disabled-fill-color: #666;\n",
              "  }\n",
              "\n",
              "  .colab-df-quickchart {\n",
              "    background-color: var(--bg-color);\n",
              "    border: none;\n",
              "    border-radius: 50%;\n",
              "    cursor: pointer;\n",
              "    display: none;\n",
              "    fill: var(--fill-color);\n",
              "    height: 32px;\n",
              "    padding: 0;\n",
              "    width: 32px;\n",
              "  }\n",
              "\n",
              "  .colab-df-quickchart:hover {\n",
              "    background-color: var(--hover-bg-color);\n",
              "    box-shadow: 0 1px 2px rgba(60, 64, 67, 0.3), 0 1px 3px 1px rgba(60, 64, 67, 0.15);\n",
              "    fill: var(--button-hover-fill-color);\n",
              "  }\n",
              "\n",
              "  .colab-df-quickchart-complete:disabled,\n",
              "  .colab-df-quickchart-complete:disabled:hover {\n",
              "    background-color: var(--disabled-bg-color);\n",
              "    fill: var(--disabled-fill-color);\n",
              "    box-shadow: none;\n",
              "  }\n",
              "\n",
              "  .colab-df-spinner {\n",
              "    border: 2px solid var(--fill-color);\n",
              "    border-color: transparent;\n",
              "    border-bottom-color: var(--fill-color);\n",
              "    animation:\n",
              "      spin 1s steps(1) infinite;\n",
              "  }\n",
              "\n",
              "  @keyframes spin {\n",
              "    0% {\n",
              "      border-color: transparent;\n",
              "      border-bottom-color: var(--fill-color);\n",
              "      border-left-color: var(--fill-color);\n",
              "    }\n",
              "    20% {\n",
              "      border-color: transparent;\n",
              "      border-left-color: var(--fill-color);\n",
              "      border-top-color: var(--fill-color);\n",
              "    }\n",
              "    30% {\n",
              "      border-color: transparent;\n",
              "      border-left-color: var(--fill-color);\n",
              "      border-top-color: var(--fill-color);\n",
              "      border-right-color: var(--fill-color);\n",
              "    }\n",
              "    40% {\n",
              "      border-color: transparent;\n",
              "      border-right-color: var(--fill-color);\n",
              "      border-top-color: var(--fill-color);\n",
              "    }\n",
              "    60% {\n",
              "      border-color: transparent;\n",
              "      border-right-color: var(--fill-color);\n",
              "    }\n",
              "    80% {\n",
              "      border-color: transparent;\n",
              "      border-right-color: var(--fill-color);\n",
              "      border-bottom-color: var(--fill-color);\n",
              "    }\n",
              "    90% {\n",
              "      border-color: transparent;\n",
              "      border-bottom-color: var(--fill-color);\n",
              "    }\n",
              "  }\n",
              "</style>\n",
              "\n",
              "  <script>\n",
              "    async function quickchart(key) {\n",
              "      const quickchartButtonEl =\n",
              "        document.querySelector('#' + key + ' button');\n",
              "      quickchartButtonEl.disabled = true;  // To prevent multiple clicks.\n",
              "      quickchartButtonEl.classList.add('colab-df-spinner');\n",
              "      try {\n",
              "        const charts = await google.colab.kernel.invokeFunction(\n",
              "            'suggestCharts', [key], {});\n",
              "      } catch (error) {\n",
              "        console.error('Error during call to suggestCharts:', error);\n",
              "      }\n",
              "      quickchartButtonEl.classList.remove('colab-df-spinner');\n",
              "      quickchartButtonEl.classList.add('colab-df-quickchart-complete');\n",
              "    }\n",
              "    (() => {\n",
              "      let quickchartButtonEl =\n",
              "        document.querySelector('#df-e93c2ad1-85f9-4d6d-8a08-eb221baf9fd1 button');\n",
              "      quickchartButtonEl.style.display =\n",
              "        google.colab.kernel.accessAllowed ? 'block' : 'none';\n",
              "    })();\n",
              "  </script>\n",
              "</div>\n",
              "    </div>\n",
              "  </div>\n"
            ],
            "application/vnd.google.colaboratory.intrinsic+json": {
              "type": "dataframe",
              "variable_name": "train"
            }
          },
          "metadata": {},
          "execution_count": 7
        }
      ]
    },
    {
      "cell_type": "markdown",
      "source": [
        "Преобразование таргета до желаемого типа данных"
      ],
      "metadata": {
        "id": "AoMQShfsUeSb"
      }
    },
    {
      "cell_type": "code",
      "source": [
        "train = train.replace({'target': {True: 1, False: 0}})\n",
        "train = train[['msno','name','target']]"
      ],
      "metadata": {
        "execution": {
          "iopub.status.busy": "2024-04-02T00:03:12.421927Z",
          "iopub.execute_input": "2024-04-02T00:03:12.422222Z",
          "iopub.status.idle": "2024-04-02T00:03:12.634131Z",
          "shell.execute_reply.started": "2024-04-02T00:03:12.422193Z",
          "shell.execute_reply": "2024-04-02T00:03:12.633087Z"
        },
        "trusted": true,
        "id": "YA3mhS3MgJAt"
      },
      "execution_count": 8,
      "outputs": []
    },
    {
      "cell_type": "markdown",
      "source": [
        "Обьявление энкодеров для подготовки данных к дальнейшему обучению"
      ],
      "metadata": {
        "id": "8fcG4gZJVCj4"
      }
    },
    {
      "cell_type": "code",
      "source": [
        "user_encoder= LabelEncoder()\n",
        "song_encoder= LabelEncoder()\n",
        "\n",
        "def get_interactions(users, songs, target):\n",
        "    user_encodes= user_encoder.transform(users)\n",
        "    song_encodes= song_encoder.transform(songs)\n",
        "    n= len(np.unique(user_encodes))\n",
        "    m= len(np.unique(song_encodes))\n",
        "    return sp.coo_matrix((target, (user_encodes, song_encodes)), shape= (n, m))"
      ],
      "metadata": {
        "execution": {
          "iopub.status.busy": "2024-04-02T01:03:11.786802Z",
          "iopub.execute_input": "2024-04-02T01:03:11.787465Z",
          "iopub.status.idle": "2024-04-02T01:03:11.797403Z",
          "shell.execute_reply.started": "2024-04-02T01:03:11.787433Z",
          "shell.execute_reply": "2024-04-02T01:03:11.796350Z"
        },
        "trusted": true,
        "id": "OfmoSXQqgJAv"
      },
      "execution_count": 9,
      "outputs": []
    },
    {
      "cell_type": "markdown",
      "source": [
        "Выкидывание дубликатов которые могли быть в данных"
      ],
      "metadata": {
        "id": "M_FxbkZZUw05"
      }
    },
    {
      "cell_type": "code",
      "source": [
        "train = train.drop_duplicates()"
      ],
      "metadata": {
        "id": "J0EO76taCk_A"
      },
      "execution_count": 10,
      "outputs": []
    },
    {
      "cell_type": "code",
      "source": [
        "user_encoder.fit(train['msno'])\n",
        "song_encoder.fit(train['name'])\n",
        "df = get_interactions(train['msno'], train['name'], train['target'])"
      ],
      "metadata": {
        "execution": {
          "iopub.status.busy": "2024-04-02T01:03:20.432589Z",
          "iopub.execute_input": "2024-04-02T01:03:20.432930Z",
          "iopub.status.idle": "2024-04-02T01:03:38.927435Z",
          "shell.execute_reply.started": "2024-04-02T01:03:20.432905Z",
          "shell.execute_reply": "2024-04-02T01:03:38.926540Z"
        },
        "trusted": true,
        "id": "PgjTrW5igJAv"
      },
      "execution_count": 11,
      "outputs": []
    },
    {
      "cell_type": "markdown",
      "source": [
        "Преобразование тестовой части данных"
      ],
      "metadata": {
        "id": "I05cWlx6U25X"
      }
    },
    {
      "cell_type": "code",
      "source": [
        "test = test.merge(songs_extra_info, on= 'song_id', how='left')\n",
        "test.head()"
      ],
      "metadata": {
        "colab": {
          "base_uri": "https://localhost:8080/",
          "height": 360
        },
        "id": "E2FrOGmII6nc",
        "outputId": "b03137a7-88d0-4749-846f-52618a6b3495"
      },
      "execution_count": 12,
      "outputs": [
        {
          "output_type": "execute_result",
          "data": {
            "text/plain": [
              "                                           msno  \\\n",
              "0  RGAe8+3OzXCgYYw4LkvHHfGHPW48eT57SO9tCDqF6wU=   \n",
              "1  PQfNQQon0CwOLghOAyztQYVw6yJTVgmFpJ650q/UF1s=   \n",
              "2  cd9R76nchcG1F1oyKMVN9bXXwRssofcYVckWhIWTSrY=   \n",
              "3  KFznvngc8H65XDu5Y1ZgitCu5DWeOKpgtVkNYw0qlq8=   \n",
              "4  phnWUuC1a4M2RO/6He3Wb8Ji3Ex6QV5AQ2KCGlqpIG8=   \n",
              "\n",
              "                                        song_id source_system_tab  \\\n",
              "0  XcLZ7BJjc6gG5RPsg7Pb5W04mvlz6jyWErLKofUvFis=            search   \n",
              "1  9t9+DPdDvWrge1ZOUlcJvLmOfnpa4NtNEVY0rBc/91I=          discover   \n",
              "2  LAbM25XeS2X4K+HcY802+4tu3VyXbwse7mzIEOorPJY=             radio   \n",
              "3  3xhSUFUYmiaYUUK6gzDE0vkhxV4nPnpyZL4Z+nzU7/8=        my library   \n",
              "4  +ZXjijLJdny/t5JIuFm4xIlM+bRYKIkaHGDcfDSKfH8=          discover   \n",
              "\n",
              "    source_screen_name          source_type  target                name  \\\n",
              "0               Search                 song   False  Bad Girl Good Girl   \n",
              "1                       top-hits-for-artist    True               可惜不是你   \n",
              "2                Radio                radio   False      In Your Dreams   \n",
              "3  Local playlist more       local-playlist   False            noir 느와르   \n",
              "4          Artist more  top-hits-for-artist    True            別對我說沒有未來   \n",
              "\n",
              "           isrc  \n",
              "0  GBMEZ1442317  \n",
              "1  TWA450586606  \n",
              "2  GBAAA0100557  \n",
              "3  KRB003519297  \n",
              "4  TWA211518806  "
            ],
            "text/html": [
              "\n",
              "  <div id=\"df-a261e558-fe33-4f1a-b48b-e10ba3f32ef1\" class=\"colab-df-container\">\n",
              "    <div>\n",
              "<style scoped>\n",
              "    .dataframe tbody tr th:only-of-type {\n",
              "        vertical-align: middle;\n",
              "    }\n",
              "\n",
              "    .dataframe tbody tr th {\n",
              "        vertical-align: top;\n",
              "    }\n",
              "\n",
              "    .dataframe thead th {\n",
              "        text-align: right;\n",
              "    }\n",
              "</style>\n",
              "<table border=\"1\" class=\"dataframe\">\n",
              "  <thead>\n",
              "    <tr style=\"text-align: right;\">\n",
              "      <th></th>\n",
              "      <th>msno</th>\n",
              "      <th>song_id</th>\n",
              "      <th>source_system_tab</th>\n",
              "      <th>source_screen_name</th>\n",
              "      <th>source_type</th>\n",
              "      <th>target</th>\n",
              "      <th>name</th>\n",
              "      <th>isrc</th>\n",
              "    </tr>\n",
              "  </thead>\n",
              "  <tbody>\n",
              "    <tr>\n",
              "      <th>0</th>\n",
              "      <td>RGAe8+3OzXCgYYw4LkvHHfGHPW48eT57SO9tCDqF6wU=</td>\n",
              "      <td>XcLZ7BJjc6gG5RPsg7Pb5W04mvlz6jyWErLKofUvFis=</td>\n",
              "      <td>search</td>\n",
              "      <td>Search</td>\n",
              "      <td>song</td>\n",
              "      <td>False</td>\n",
              "      <td>Bad Girl Good Girl</td>\n",
              "      <td>GBMEZ1442317</td>\n",
              "    </tr>\n",
              "    <tr>\n",
              "      <th>1</th>\n",
              "      <td>PQfNQQon0CwOLghOAyztQYVw6yJTVgmFpJ650q/UF1s=</td>\n",
              "      <td>9t9+DPdDvWrge1ZOUlcJvLmOfnpa4NtNEVY0rBc/91I=</td>\n",
              "      <td>discover</td>\n",
              "      <td></td>\n",
              "      <td>top-hits-for-artist</td>\n",
              "      <td>True</td>\n",
              "      <td>可惜不是你</td>\n",
              "      <td>TWA450586606</td>\n",
              "    </tr>\n",
              "    <tr>\n",
              "      <th>2</th>\n",
              "      <td>cd9R76nchcG1F1oyKMVN9bXXwRssofcYVckWhIWTSrY=</td>\n",
              "      <td>LAbM25XeS2X4K+HcY802+4tu3VyXbwse7mzIEOorPJY=</td>\n",
              "      <td>radio</td>\n",
              "      <td>Radio</td>\n",
              "      <td>radio</td>\n",
              "      <td>False</td>\n",
              "      <td>In Your Dreams</td>\n",
              "      <td>GBAAA0100557</td>\n",
              "    </tr>\n",
              "    <tr>\n",
              "      <th>3</th>\n",
              "      <td>KFznvngc8H65XDu5Y1ZgitCu5DWeOKpgtVkNYw0qlq8=</td>\n",
              "      <td>3xhSUFUYmiaYUUK6gzDE0vkhxV4nPnpyZL4Z+nzU7/8=</td>\n",
              "      <td>my library</td>\n",
              "      <td>Local playlist more</td>\n",
              "      <td>local-playlist</td>\n",
              "      <td>False</td>\n",
              "      <td>noir 느와르</td>\n",
              "      <td>KRB003519297</td>\n",
              "    </tr>\n",
              "    <tr>\n",
              "      <th>4</th>\n",
              "      <td>phnWUuC1a4M2RO/6He3Wb8Ji3Ex6QV5AQ2KCGlqpIG8=</td>\n",
              "      <td>+ZXjijLJdny/t5JIuFm4xIlM+bRYKIkaHGDcfDSKfH8=</td>\n",
              "      <td>discover</td>\n",
              "      <td>Artist more</td>\n",
              "      <td>top-hits-for-artist</td>\n",
              "      <td>True</td>\n",
              "      <td>別對我說沒有未來</td>\n",
              "      <td>TWA211518806</td>\n",
              "    </tr>\n",
              "  </tbody>\n",
              "</table>\n",
              "</div>\n",
              "    <div class=\"colab-df-buttons\">\n",
              "\n",
              "  <div class=\"colab-df-container\">\n",
              "    <button class=\"colab-df-convert\" onclick=\"convertToInteractive('df-a261e558-fe33-4f1a-b48b-e10ba3f32ef1')\"\n",
              "            title=\"Convert this dataframe to an interactive table.\"\n",
              "            style=\"display:none;\">\n",
              "\n",
              "  <svg xmlns=\"http://www.w3.org/2000/svg\" height=\"24px\" viewBox=\"0 -960 960 960\">\n",
              "    <path d=\"M120-120v-720h720v720H120Zm60-500h600v-160H180v160Zm220 220h160v-160H400v160Zm0 220h160v-160H400v160ZM180-400h160v-160H180v160Zm440 0h160v-160H620v160ZM180-180h160v-160H180v160Zm440 0h160v-160H620v160Z\"/>\n",
              "  </svg>\n",
              "    </button>\n",
              "\n",
              "  <style>\n",
              "    .colab-df-container {\n",
              "      display:flex;\n",
              "      gap: 12px;\n",
              "    }\n",
              "\n",
              "    .colab-df-convert {\n",
              "      background-color: #E8F0FE;\n",
              "      border: none;\n",
              "      border-radius: 50%;\n",
              "      cursor: pointer;\n",
              "      display: none;\n",
              "      fill: #1967D2;\n",
              "      height: 32px;\n",
              "      padding: 0 0 0 0;\n",
              "      width: 32px;\n",
              "    }\n",
              "\n",
              "    .colab-df-convert:hover {\n",
              "      background-color: #E2EBFA;\n",
              "      box-shadow: 0px 1px 2px rgba(60, 64, 67, 0.3), 0px 1px 3px 1px rgba(60, 64, 67, 0.15);\n",
              "      fill: #174EA6;\n",
              "    }\n",
              "\n",
              "    .colab-df-buttons div {\n",
              "      margin-bottom: 4px;\n",
              "    }\n",
              "\n",
              "    [theme=dark] .colab-df-convert {\n",
              "      background-color: #3B4455;\n",
              "      fill: #D2E3FC;\n",
              "    }\n",
              "\n",
              "    [theme=dark] .colab-df-convert:hover {\n",
              "      background-color: #434B5C;\n",
              "      box-shadow: 0px 1px 3px 1px rgba(0, 0, 0, 0.15);\n",
              "      filter: drop-shadow(0px 1px 2px rgba(0, 0, 0, 0.3));\n",
              "      fill: #FFFFFF;\n",
              "    }\n",
              "  </style>\n",
              "\n",
              "    <script>\n",
              "      const buttonEl =\n",
              "        document.querySelector('#df-a261e558-fe33-4f1a-b48b-e10ba3f32ef1 button.colab-df-convert');\n",
              "      buttonEl.style.display =\n",
              "        google.colab.kernel.accessAllowed ? 'block' : 'none';\n",
              "\n",
              "      async function convertToInteractive(key) {\n",
              "        const element = document.querySelector('#df-a261e558-fe33-4f1a-b48b-e10ba3f32ef1');\n",
              "        const dataTable =\n",
              "          await google.colab.kernel.invokeFunction('convertToInteractive',\n",
              "                                                    [key], {});\n",
              "        if (!dataTable) return;\n",
              "\n",
              "        const docLinkHtml = 'Like what you see? Visit the ' +\n",
              "          '<a target=\"_blank\" href=https://colab.research.google.com/notebooks/data_table.ipynb>data table notebook</a>'\n",
              "          + ' to learn more about interactive tables.';\n",
              "        element.innerHTML = '';\n",
              "        dataTable['output_type'] = 'display_data';\n",
              "        await google.colab.output.renderOutput(dataTable, element);\n",
              "        const docLink = document.createElement('div');\n",
              "        docLink.innerHTML = docLinkHtml;\n",
              "        element.appendChild(docLink);\n",
              "      }\n",
              "    </script>\n",
              "  </div>\n",
              "\n",
              "\n",
              "<div id=\"df-aa6a754f-4328-4d21-972f-7defe99cf5df\">\n",
              "  <button class=\"colab-df-quickchart\" onclick=\"quickchart('df-aa6a754f-4328-4d21-972f-7defe99cf5df')\"\n",
              "            title=\"Suggest charts\"\n",
              "            style=\"display:none;\">\n",
              "\n",
              "<svg xmlns=\"http://www.w3.org/2000/svg\" height=\"24px\"viewBox=\"0 0 24 24\"\n",
              "     width=\"24px\">\n",
              "    <g>\n",
              "        <path d=\"M19 3H5c-1.1 0-2 .9-2 2v14c0 1.1.9 2 2 2h14c1.1 0 2-.9 2-2V5c0-1.1-.9-2-2-2zM9 17H7v-7h2v7zm4 0h-2V7h2v10zm4 0h-2v-4h2v4z\"/>\n",
              "    </g>\n",
              "</svg>\n",
              "  </button>\n",
              "\n",
              "<style>\n",
              "  .colab-df-quickchart {\n",
              "      --bg-color: #E8F0FE;\n",
              "      --fill-color: #1967D2;\n",
              "      --hover-bg-color: #E2EBFA;\n",
              "      --hover-fill-color: #174EA6;\n",
              "      --disabled-fill-color: #AAA;\n",
              "      --disabled-bg-color: #DDD;\n",
              "  }\n",
              "\n",
              "  [theme=dark] .colab-df-quickchart {\n",
              "      --bg-color: #3B4455;\n",
              "      --fill-color: #D2E3FC;\n",
              "      --hover-bg-color: #434B5C;\n",
              "      --hover-fill-color: #FFFFFF;\n",
              "      --disabled-bg-color: #3B4455;\n",
              "      --disabled-fill-color: #666;\n",
              "  }\n",
              "\n",
              "  .colab-df-quickchart {\n",
              "    background-color: var(--bg-color);\n",
              "    border: none;\n",
              "    border-radius: 50%;\n",
              "    cursor: pointer;\n",
              "    display: none;\n",
              "    fill: var(--fill-color);\n",
              "    height: 32px;\n",
              "    padding: 0;\n",
              "    width: 32px;\n",
              "  }\n",
              "\n",
              "  .colab-df-quickchart:hover {\n",
              "    background-color: var(--hover-bg-color);\n",
              "    box-shadow: 0 1px 2px rgba(60, 64, 67, 0.3), 0 1px 3px 1px rgba(60, 64, 67, 0.15);\n",
              "    fill: var(--button-hover-fill-color);\n",
              "  }\n",
              "\n",
              "  .colab-df-quickchart-complete:disabled,\n",
              "  .colab-df-quickchart-complete:disabled:hover {\n",
              "    background-color: var(--disabled-bg-color);\n",
              "    fill: var(--disabled-fill-color);\n",
              "    box-shadow: none;\n",
              "  }\n",
              "\n",
              "  .colab-df-spinner {\n",
              "    border: 2px solid var(--fill-color);\n",
              "    border-color: transparent;\n",
              "    border-bottom-color: var(--fill-color);\n",
              "    animation:\n",
              "      spin 1s steps(1) infinite;\n",
              "  }\n",
              "\n",
              "  @keyframes spin {\n",
              "    0% {\n",
              "      border-color: transparent;\n",
              "      border-bottom-color: var(--fill-color);\n",
              "      border-left-color: var(--fill-color);\n",
              "    }\n",
              "    20% {\n",
              "      border-color: transparent;\n",
              "      border-left-color: var(--fill-color);\n",
              "      border-top-color: var(--fill-color);\n",
              "    }\n",
              "    30% {\n",
              "      border-color: transparent;\n",
              "      border-left-color: var(--fill-color);\n",
              "      border-top-color: var(--fill-color);\n",
              "      border-right-color: var(--fill-color);\n",
              "    }\n",
              "    40% {\n",
              "      border-color: transparent;\n",
              "      border-right-color: var(--fill-color);\n",
              "      border-top-color: var(--fill-color);\n",
              "    }\n",
              "    60% {\n",
              "      border-color: transparent;\n",
              "      border-right-color: var(--fill-color);\n",
              "    }\n",
              "    80% {\n",
              "      border-color: transparent;\n",
              "      border-right-color: var(--fill-color);\n",
              "      border-bottom-color: var(--fill-color);\n",
              "    }\n",
              "    90% {\n",
              "      border-color: transparent;\n",
              "      border-bottom-color: var(--fill-color);\n",
              "    }\n",
              "  }\n",
              "</style>\n",
              "\n",
              "  <script>\n",
              "    async function quickchart(key) {\n",
              "      const quickchartButtonEl =\n",
              "        document.querySelector('#' + key + ' button');\n",
              "      quickchartButtonEl.disabled = true;  // To prevent multiple clicks.\n",
              "      quickchartButtonEl.classList.add('colab-df-spinner');\n",
              "      try {\n",
              "        const charts = await google.colab.kernel.invokeFunction(\n",
              "            'suggestCharts', [key], {});\n",
              "      } catch (error) {\n",
              "        console.error('Error during call to suggestCharts:', error);\n",
              "      }\n",
              "      quickchartButtonEl.classList.remove('colab-df-spinner');\n",
              "      quickchartButtonEl.classList.add('colab-df-quickchart-complete');\n",
              "    }\n",
              "    (() => {\n",
              "      let quickchartButtonEl =\n",
              "        document.querySelector('#df-aa6a754f-4328-4d21-972f-7defe99cf5df button');\n",
              "      quickchartButtonEl.style.display =\n",
              "        google.colab.kernel.accessAllowed ? 'block' : 'none';\n",
              "    })();\n",
              "  </script>\n",
              "</div>\n",
              "    </div>\n",
              "  </div>\n"
            ],
            "application/vnd.google.colaboratory.intrinsic+json": {
              "type": "dataframe",
              "variable_name": "test"
            }
          },
          "metadata": {},
          "execution_count": 12
        }
      ]
    },
    {
      "cell_type": "markdown",
      "source": [
        "Энкодинг пользователей и песен через LabelEncoder"
      ],
      "metadata": {
        "id": "Wa01dEoIVIrn"
      }
    },
    {
      "cell_type": "code",
      "source": [
        "user_ids = test[\"msno\"]\n",
        "track_ids = test[\"name\"]\n",
        "\n",
        "user_classes = set(user_encoder.classes_)\n",
        "track_classes = set(song_encoder.classes_)\n",
        "\n",
        "valid_indices = [i for i, (user, track) in enumerate(zip(user_ids, track_ids))\n",
        "                if user in user_classes and track in track_classes]\n",
        "\n",
        "user_embeddings = user_encoder.transform(user_ids[valid_indices])\n",
        "track_embeddings = song_encoder.transform(track_ids[valid_indices])"
      ],
      "metadata": {
        "id": "gi31X7WAI-Mo"
      },
      "execution_count": 13,
      "outputs": []
    },
    {
      "cell_type": "markdown",
      "source": [
        "##Обучение модели\n"
      ],
      "metadata": {
        "id": "RkXzhxJLVJzs"
      }
    },
    {
      "cell_type": "code",
      "source": [
        "model= LightFM(no_components=100, k=5, learning_rate=0.05, random_state=153) #гиперпараметры были подобраны через Optuna, было прервано выполнение кода\n",
        "model.fit(df, num_threads= 5)"
      ],
      "metadata": {
        "execution": {
          "iopub.status.busy": "2024-04-02T01:01:45.615215Z",
          "iopub.execute_input": "2024-04-02T01:01:45.615544Z",
          "iopub.status.idle": "2024-04-02T01:01:50.010242Z",
          "shell.execute_reply.started": "2024-04-02T01:01:45.615489Z",
          "shell.execute_reply": "2024-04-02T01:01:50.009368Z"
        },
        "trusted": true,
        "colab": {
          "base_uri": "https://localhost:8080/"
        },
        "id": "DgdqgtMqgJAv",
        "outputId": "4632f31a-f0bf-4293-e870-fb63be2dc4cd"
      },
      "execution_count": 14,
      "outputs": [
        {
          "output_type": "execute_result",
          "data": {
            "text/plain": [
              "<lightfm.lightfm.LightFM at 0x7ab20ca7a2c0>"
            ]
          },
          "metadata": {},
          "execution_count": 14
        }
      ]
    },
    {
      "cell_type": "markdown",
      "source": [
        "##Подсчет NDCG@20"
      ],
      "metadata": {
        "id": "MPgB2n4rUK0a"
      }
    },
    {
      "cell_type": "code",
      "source": [
        "from sklearn.metrics import ndcg_score\n",
        "def ndcg_calc(kk, data):\n",
        "    scores = []\n",
        "    for query_id, group in data.groupby('msno'):\n",
        "        group = group.sort_values(by='pred', ascending=False)\n",
        "        y_true = group['target'].values.reshape(1, -1)\n",
        "        y_pred = group['pred'].values.reshape(1, -1)\n",
        "        try:\n",
        "            ndcg = ndcg_score(y_true, y_pred, k = kk)\n",
        "            scores.append(ndcg)\n",
        "        except ValueError:\n",
        "            continue\n",
        "    return np.mean(scores)"
      ],
      "metadata": {
        "id": "BUo8ON6fxjhK"
      },
      "execution_count": 16,
      "outputs": []
    },
    {
      "cell_type": "code",
      "source": [
        "scores = []\n",
        "scores = np.zeros(len(user_ids))\n",
        "scores[valid_indices] = model.predict(user_embeddings, track_embeddings)"
      ],
      "metadata": {
        "id": "bZDhZ15pXkMp"
      },
      "execution_count": 23,
      "outputs": []
    },
    {
      "cell_type": "code",
      "source": [
        "test_data = test[['msno']].copy()\n",
        "test_data['pred'] = scores\n",
        "test_data['target'] = test['target'].astype(int)"
      ],
      "metadata": {
        "id": "OUMMGb2BUFaT"
      },
      "execution_count": 24,
      "outputs": []
    },
    {
      "cell_type": "code",
      "source": [
        "ndcg_calc(20, test_data)"
      ],
      "metadata": {
        "colab": {
          "base_uri": "https://localhost:8080/"
        },
        "id": "DqvxKIB8UHoN",
        "outputId": "ad39015f-f1f6-42fb-ed5e-2ae1284988c3"
      },
      "execution_count": 25,
      "outputs": [
        {
          "output_type": "execute_result",
          "data": {
            "text/plain": [
              "0.638943501506401"
            ]
          },
          "metadata": {},
          "execution_count": 25
        }
      ]
    }
  ]
}