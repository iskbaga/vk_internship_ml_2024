{
  "metadata": {
    "kernelspec": {
      "name": "python3",
      "display_name": "Python 3"
    },
    "language_info": {
      "codemirror_mode": {
        "name": "ipython",
        "version": 3
      },
      "version": "3.6.1",
      "pygments_lexer": "ipython3",
      "name": "python",
      "mimetype": "text/x-python",
      "file_extension": ".py",
      "nbconvert_exporter": "python"
    },
    "kaggle": {
      "accelerator": "none",
      "dataSources": [
        {
          "sourceId": 7162,
          "databundleVersionId": 44320,
          "sourceType": "competition"
        }
      ],
      "isInternetEnabled": false,
      "language": "python",
      "sourceType": "notebook",
      "isGpuEnabled": false
    },
    "colab": {
      "provenance": [],
      "gpuType": "T4"
    },
    "accelerator": "GPU"
  },
  "nbformat_minor": 0,
  "nbformat": 4,
  "cells": [
    {
      "cell_type": "markdown",
      "source": [
        "#Решение через LightGBM"
      ],
      "metadata": {
        "id": "z-Mww2vHgofq"
      }
    },
    {
      "cell_type": "code",
      "source": [
        "!pip install datatable"
      ],
      "metadata": {
        "id": "E_NQ683RhVX7",
        "colab": {
          "base_uri": "https://localhost:8080/"
        },
        "outputId": "cd52d406-2c88-40e3-d986-2edb10ef610b"
      },
      "execution_count": 1,
      "outputs": [
        {
          "output_type": "stream",
          "name": "stdout",
          "text": [
            "Collecting datatable\n",
            "  Downloading datatable-1.1.0-cp310-cp310-manylinux_2_35_x86_64.whl (82.0 MB)\n",
            "\u001b[2K     \u001b[90m━━━━━━━━━━━━━━━━━━━━━━━━━━━━━━━━━━━━━━━━\u001b[0m \u001b[32m82.0/82.0 MB\u001b[0m \u001b[31m7.9 MB/s\u001b[0m eta \u001b[36m0:00:00\u001b[0m\n",
            "\u001b[?25hInstalling collected packages: datatable\n",
            "Successfully installed datatable-1.1.0\n"
          ]
        }
      ]
    },
    {
      "cell_type": "code",
      "source": [
        "import numpy as np\n",
        "import pandas as pd\n",
        "from sklearn.model_selection import KFold\n",
        "import lightgbm as lgb\n",
        "import datatable as dt\n",
        "from sklearn.model_selection import train_test_split\n",
        "from sklearn.metrics import ndcg_score\n",
        "from sklearn.model_selection import RandomizedSearchCV"
      ],
      "metadata": {
        "id": "Yax5qOSGhXZO"
      },
      "execution_count": 18,
      "outputs": []
    },
    {
      "cell_type": "code",
      "source": [
        "from google.colab import drive\n",
        "drive.mount(\"/gdrive\", force_remount=True)"
      ],
      "metadata": {
        "id": "wciDvtLRhEs5",
        "outputId": "c489d565-afc6-4344-bd73-3f83238a3fc4",
        "colab": {
          "base_uri": "https://localhost:8080/"
        }
      },
      "execution_count": 3,
      "outputs": [
        {
          "output_type": "stream",
          "name": "stdout",
          "text": [
            "Mounted at /gdrive\n"
          ]
        }
      ]
    },
    {
      "cell_type": "code",
      "source": [
        "train = dt.fread('/gdrive/MyDrive/vk_contest/train.csv').to_pandas()\n",
        "train, test= train_test_split(train, test_size=0.2, random_state=42)\n",
        "songs = dt.fread('/gdrive/MyDrive/vk_contest/songs.csv').to_pandas()\n",
        "members = dt.fread('/gdrive/MyDrive/vk_contest/members.csv').to_pandas()"
      ],
      "metadata": {
        "collapsed": true,
        "jupyter": {
          "outputs_hidden": true
        },
        "id": "vI33FzwRgofs"
      },
      "execution_count": 4,
      "outputs": []
    },
    {
      "cell_type": "markdown",
      "source": [
        "##Обработка данных"
      ],
      "metadata": {
        "id": "gIb_sUqNLb_V"
      }
    },
    {
      "cell_type": "markdown",
      "source": [
        "Преобразование данных в категориальные"
      ],
      "metadata": {
        "id": "dz-nd2-lYs13"
      }
    },
    {
      "cell_type": "code",
      "source": [
        "for i in songs.columns:\n",
        "    if songs[i].dtype != 'int32':\n",
        "        songs[i] = songs[i].astype('category')\n",
        "songs.info()"
      ],
      "metadata": {
        "colab": {
          "base_uri": "https://localhost:8080/"
        },
        "id": "34fr8tHHvdAM",
        "outputId": "ef5c3303-d36b-4025-cd88-1f70895c292b"
      },
      "execution_count": 5,
      "outputs": [
        {
          "output_type": "stream",
          "name": "stdout",
          "text": [
            "<class 'pandas.core.frame.DataFrame'>\n",
            "RangeIndex: 2296320 entries, 0 to 2296319\n",
            "Data columns (total 7 columns):\n",
            " #   Column       Dtype   \n",
            "---  ------       -----   \n",
            " 0   song_id      category\n",
            " 1   song_length  int32   \n",
            " 2   genre_ids    category\n",
            " 3   artist_name  category\n",
            " 4   composer     category\n",
            " 5   lyricist     category\n",
            " 6   language     category\n",
            "dtypes: category(6), int32(1)\n",
            "memory usage: 157.6 MB\n"
          ]
        }
      ]
    },
    {
      "cell_type": "code",
      "source": [
        "for i in train.columns:\n",
        "    if train[i].dtype == object:\n",
        "        train[i] = train[i].astype('category')\n",
        "        test[i] = test[i].astype('category')\n",
        "\n",
        "members['registration_init_time'] = pd.to_datetime(members['registration_init_time'])\n",
        "members['expiration_date'] = pd.to_datetime(members['expiration_date'])\n",
        "\n",
        "for i in members.columns:\n",
        "    if members[i].dtype != 'datetime64[ns]':\n",
        "        members[i] = members[i].astype('category')\n",
        "members.info()"
      ],
      "metadata": {
        "colab": {
          "base_uri": "https://localhost:8080/"
        },
        "id": "5vgdbk7GiFwn",
        "outputId": "1a60e8e8-114e-4a25-923a-3ecfd46f2590"
      },
      "execution_count": 6,
      "outputs": [
        {
          "output_type": "stream",
          "name": "stdout",
          "text": [
            "<class 'pandas.core.frame.DataFrame'>\n",
            "RangeIndex: 34403 entries, 0 to 34402\n",
            "Data columns (total 7 columns):\n",
            " #   Column                  Non-Null Count  Dtype         \n",
            "---  ------                  --------------  -----         \n",
            " 0   msno                    34403 non-null  category      \n",
            " 1   city                    34403 non-null  category      \n",
            " 2   bd                      34403 non-null  category      \n",
            " 3   gender                  34403 non-null  category      \n",
            " 4   registered_via          34403 non-null  category      \n",
            " 5   registration_init_time  34403 non-null  datetime64[ns]\n",
            " 6   expiration_date         34403 non-null  datetime64[ns]\n",
            "dtypes: category(5), datetime64[ns](2)\n",
            "memory usage: 2.1 MB\n"
          ]
        }
      ]
    },
    {
      "cell_type": "code",
      "source": [
        "train.isnull().sum()"
      ],
      "metadata": {
        "colab": {
          "base_uri": "https://localhost:8080/"
        },
        "id": "crNu1LydI5-u",
        "outputId": "45d6101f-28b8-4e7d-dde1-59424f4cb0c0"
      },
      "execution_count": 7,
      "outputs": [
        {
          "output_type": "execute_result",
          "data": {
            "text/plain": [
              "msno                  0\n",
              "song_id               0\n",
              "source_system_tab     0\n",
              "source_screen_name    0\n",
              "source_type           0\n",
              "target                0\n",
              "dtype: int64"
            ]
          },
          "metadata": {},
          "execution_count": 7
        }
      ]
    },
    {
      "cell_type": "code",
      "source": [
        "train.isnull().sum()"
      ],
      "metadata": {
        "colab": {
          "base_uri": "https://localhost:8080/"
        },
        "id": "PdfePJXuJwq6",
        "outputId": "3916ad8c-1358-4e50-f2a3-2315a2d539cb"
      },
      "execution_count": 8,
      "outputs": [
        {
          "output_type": "execute_result",
          "data": {
            "text/plain": [
              "msno                  0\n",
              "song_id               0\n",
              "source_system_tab     0\n",
              "source_screen_name    0\n",
              "source_type           0\n",
              "target                0\n",
              "dtype: int64"
            ]
          },
          "metadata": {},
          "execution_count": 8
        }
      ]
    },
    {
      "cell_type": "markdown",
      "source": [
        "Преобразование дат в числовой признак показывающий оставшееся количество дней, мне кажется этот признак достаточно информативен и не привязан к какому-либо отрезку времени (не берется в учет начало отсчета)"
      ],
      "metadata": {
        "id": "DpocbRZOY1JR"
      }
    },
    {
      "cell_type": "code",
      "source": [
        "members['count'] = (members['expiration_date'] - members['registration_init_time']).dt.days.astype(int)\n",
        "members.drop(['registration_init_time','expiration_date'], axis=1, inplace=True)"
      ],
      "metadata": {
        "_cell_guid": "d677d32e-ffe6-46f0-837d-6f812187a9ca",
        "_uuid": "4eacd12508233d07a8a278595f677f36e021c409",
        "collapsed": true,
        "jupyter": {
          "outputs_hidden": true
        },
        "id": "OMGAu_ilgofs"
      },
      "execution_count": 9,
      "outputs": []
    },
    {
      "cell_type": "markdown",
      "source": [
        "Конкатенация таблиц по msno и song_id"
      ],
      "metadata": {
        "id": "I9hY7OmsYxUy"
      }
    },
    {
      "cell_type": "code",
      "source": [
        "test = pd.merge(left = test, on='msno', right = members,how ='left')\n",
        "train = pd.merge(left = train, on='msno', right = members,how ='left')\n",
        "test = pd.merge(left = test, on='song_id', right = songs, how = 'left')\n",
        "train = pd.merge(left = train, on='song_id', right = songs, how = 'left')\n",
        "\n",
        "nan_length = max(test[\"song_length\"].unique()) + 123\n",
        "test[\"song_length\"].fillna(nan_length,inplace=True)\n",
        "train[\"song_length\"].fillna(nan_length,inplace=True)\n",
        "\n",
        "test[\"song_length\"] = test[\"song_length\"].astype(int)\n",
        "train[\"song_length\"] = train[\"song_length\"].astype(int)"
      ],
      "metadata": {
        "collapsed": true,
        "jupyter": {
          "outputs_hidden": true
        },
        "id": "PV_2_YZqgoft"
      },
      "execution_count": 10,
      "outputs": []
    },
    {
      "cell_type": "code",
      "source": [
        "test[\"msno\"] = test[\"msno\"].astype('category')\n",
        "train[\"msno\"] = train[\"msno\"].astype('category')\n",
        "test[\"song_id\"] = test[\"song_id\"].astype('category')\n",
        "train[\"song_id\"] = train[\"song_id\"].astype('category')"
      ],
      "metadata": {
        "id": "BRl0_JMM0r0A"
      },
      "execution_count": 11,
      "outputs": []
    },
    {
      "cell_type": "code",
      "source": [
        "train.info()"
      ],
      "metadata": {
        "colab": {
          "base_uri": "https://localhost:8080/"
        },
        "id": "3D8QmMzfli9r",
        "outputId": "782fbe3e-a75a-411e-dd43-5b25af9ab5a5"
      },
      "execution_count": 12,
      "outputs": [
        {
          "output_type": "stream",
          "name": "stdout",
          "text": [
            "<class 'pandas.core.frame.DataFrame'>\n",
            "RangeIndex: 5901934 entries, 0 to 5901933\n",
            "Data columns (total 17 columns):\n",
            " #   Column              Dtype   \n",
            "---  ------              -----   \n",
            " 0   msno                category\n",
            " 1   song_id             category\n",
            " 2   source_system_tab   category\n",
            " 3   source_screen_name  category\n",
            " 4   source_type         category\n",
            " 5   target              bool    \n",
            " 6   city                category\n",
            " 7   bd                  category\n",
            " 8   gender              category\n",
            " 9   registered_via      category\n",
            " 10  count               int64   \n",
            " 11  song_length         int64   \n",
            " 12  genre_ids           category\n",
            " 13  artist_name         category\n",
            " 14  composer            category\n",
            " 15  lyricist            category\n",
            " 16  language            category\n",
            "dtypes: bool(1), category(14), int64(2)\n",
            "memory usage: 290.3 MB\n"
          ]
        }
      ]
    },
    {
      "cell_type": "code",
      "source": [
        "train = train.drop_duplicates()"
      ],
      "metadata": {
        "id": "ne-5OqhpS5en"
      },
      "execution_count": 26,
      "outputs": []
    },
    {
      "cell_type": "code",
      "source": [
        "train.isnull().sum()"
      ],
      "metadata": {
        "colab": {
          "base_uri": "https://localhost:8080/"
        },
        "id": "-ss6WA2vLwjs",
        "outputId": "bd786cec-fbf6-4534-d702-e40f21517722"
      },
      "execution_count": 13,
      "outputs": [
        {
          "output_type": "execute_result",
          "data": {
            "text/plain": [
              "msno                    0\n",
              "song_id                 0\n",
              "source_system_tab       0\n",
              "source_screen_name      0\n",
              "source_type             0\n",
              "target                  0\n",
              "city                    0\n",
              "bd                      0\n",
              "gender                  0\n",
              "registered_via          0\n",
              "count                   0\n",
              "song_length             0\n",
              "genre_ids              95\n",
              "artist_name            95\n",
              "composer               95\n",
              "lyricist               95\n",
              "language              120\n",
              "dtype: int64"
            ]
          },
          "metadata": {},
          "execution_count": 13
        }
      ]
    },
    {
      "cell_type": "markdown",
      "source": [
        "Заполнение пропусков в категориальных данных, логично откуда они взяты, например песня могла быть без слов, поэтому нет языка, поэтому решил создать отдельную категорию для пропусков"
      ],
      "metadata": {
        "id": "6xGCKsmTREFL"
      }
    },
    {
      "cell_type": "code",
      "source": [
        "special_category = \"no_inf\"\n",
        "for i in train.columns:\n",
        "    if train[i].isnull().sum() > 0:\n",
        "        train[i] = train[i].cat.add_categories(special_category)\n",
        "        train[i] = train[i].fillna(special_category)\n",
        "for i in test.columns:\n",
        "    if test[i].isnull().sum() > 0:\n",
        "        test[i] = test[i].cat.add_categories(special_category)\n",
        "        test[i] = test[i].fillna(special_category)"
      ],
      "metadata": {
        "id": "jRYPF4n_Lrg1"
      },
      "execution_count": 14,
      "outputs": []
    },
    {
      "cell_type": "code",
      "source": [
        "train.isnull().sum()"
      ],
      "metadata": {
        "colab": {
          "base_uri": "https://localhost:8080/"
        },
        "id": "lWAG9LF9LyD-",
        "outputId": "1d129aff-e4f0-42dc-8827-6be0e4378710"
      },
      "execution_count": 15,
      "outputs": [
        {
          "output_type": "execute_result",
          "data": {
            "text/plain": [
              "msno                  0\n",
              "song_id               0\n",
              "source_system_tab     0\n",
              "source_screen_name    0\n",
              "source_type           0\n",
              "target                0\n",
              "city                  0\n",
              "bd                    0\n",
              "gender                0\n",
              "registered_via        0\n",
              "count                 0\n",
              "song_length           0\n",
              "genre_ids             0\n",
              "artist_name           0\n",
              "composer              0\n",
              "lyricist              0\n",
              "language              0\n",
              "dtype: int64"
            ]
          },
          "metadata": {},
          "execution_count": 15
        }
      ]
    },
    {
      "cell_type": "code",
      "source": [
        "test_target = test['target']\n",
        "test.drop(columns=['target'], inplace=True)"
      ],
      "metadata": {
        "id": "POJmqQSK7i2-"
      },
      "execution_count": 16,
      "outputs": []
    },
    {
      "cell_type": "markdown",
      "source": [
        "##Обучение модели\n"
      ],
      "metadata": {
        "id": "I09AnskZLS_b"
      }
    },
    {
      "cell_type": "code",
      "source": [
        "folds = KFold(n_splits=5)\n",
        "scores = np.zeros(len(test))\n",
        "\n",
        "parameters = {\n",
        "    'objective': 'binary',\n",
        "    'metric': 'binary_logloss',\n",
        "    'boosting': 'gbdt'\n",
        "}\n",
        "\n",
        "for train_i, val_i in folds.split(train):\n",
        "    train_data = lgb.Dataset(train.drop('target', axis=1).iloc[train_i], label=train.loc[train_i, 'target'])\n",
        "    val_data = lgb.Dataset(train.drop('target', axis=1).iloc[val_i], label=train.loc[val_i, 'target'])\n",
        "    model = lgb.train(parameters, train_data, valid_sets=[val_data])\n",
        "    scores += model.predict(test)"
      ],
      "metadata": {
        "id": "cvf6WPcsgoft",
        "colab": {
          "base_uri": "https://localhost:8080/"
        },
        "outputId": "0269d5b1-a61f-4670-8f3c-8834f33a21d3"
      },
      "execution_count": 25,
      "outputs": [
        {
          "output_type": "stream",
          "name": "stdout",
          "text": [
            "[LightGBM] [Warning] Categorical features with more bins than the configured maximum bin number found.\n",
            "[LightGBM] [Warning] For categorical features, max_bin and max_bin_by_feature may be ignored with a large number of categories.\n",
            "[LightGBM] [Info] Number of positive: 2377191, number of negative: 2344356\n",
            "[LightGBM] [Info] Auto-choosing col-wise multi-threading, the overhead of testing was 0.745424 seconds.\n",
            "You can set `force_col_wise=true` to remove the overhead.\n",
            "[LightGBM] [Info] Total Bins 43465\n",
            "[LightGBM] [Info] Number of data points in the train set: 4721547, number of used features: 15\n",
            "[LightGBM] [Info] [binary:BoostFromScore]: pavg=0.503477 -> initscore=0.013909\n",
            "[LightGBM] [Info] Start training from score 0.013909\n",
            "[LightGBM] [Warning] Categorical features with more bins than the configured maximum bin number found.\n",
            "[LightGBM] [Warning] For categorical features, max_bin and max_bin_by_feature may be ignored with a large number of categories.\n",
            "[LightGBM] [Info] Number of positive: 2377708, number of negative: 2343839\n",
            "[LightGBM] [Info] Auto-choosing col-wise multi-threading, the overhead of testing was 0.756565 seconds.\n",
            "You can set `force_col_wise=true` to remove the overhead.\n",
            "[LightGBM] [Info] Total Bins 43477\n",
            "[LightGBM] [Info] Number of data points in the train set: 4721547, number of used features: 15\n",
            "[LightGBM] [Info] [binary:BoostFromScore]: pavg=0.503587 -> initscore=0.014347\n",
            "[LightGBM] [Info] Start training from score 0.014347\n",
            "[LightGBM] [Warning] Categorical features with more bins than the configured maximum bin number found.\n",
            "[LightGBM] [Warning] For categorical features, max_bin and max_bin_by_feature may be ignored with a large number of categories.\n",
            "[LightGBM] [Info] Number of positive: 2377233, number of negative: 2344314\n",
            "[LightGBM] [Info] Auto-choosing col-wise multi-threading, the overhead of testing was 0.840878 seconds.\n",
            "You can set `force_col_wise=true` to remove the overhead.\n",
            "[LightGBM] [Info] Total Bins 43542\n",
            "[LightGBM] [Info] Number of data points in the train set: 4721547, number of used features: 15\n",
            "[LightGBM] [Info] [binary:BoostFromScore]: pavg=0.503486 -> initscore=0.013944\n",
            "[LightGBM] [Info] Start training from score 0.013944\n",
            "[LightGBM] [Warning] Categorical features with more bins than the configured maximum bin number found.\n",
            "[LightGBM] [Warning] For categorical features, max_bin and max_bin_by_feature may be ignored with a large number of categories.\n",
            "[LightGBM] [Info] Number of positive: 2376786, number of negative: 2344761\n",
            "[LightGBM] [Info] Auto-choosing col-wise multi-threading, the overhead of testing was 0.740724 seconds.\n",
            "You can set `force_col_wise=true` to remove the overhead.\n",
            "[LightGBM] [Info] Total Bins 43712\n",
            "[LightGBM] [Info] Number of data points in the train set: 4721547, number of used features: 15\n",
            "[LightGBM] [Info] [binary:BoostFromScore]: pavg=0.503391 -> initscore=0.013566\n",
            "[LightGBM] [Info] Start training from score 0.013566\n",
            "[LightGBM] [Warning] Categorical features with more bins than the configured maximum bin number found.\n",
            "[LightGBM] [Warning] For categorical features, max_bin and max_bin_by_feature may be ignored with a large number of categories.\n",
            "[LightGBM] [Info] Number of positive: 2376322, number of negative: 2345226\n",
            "[LightGBM] [Info] Auto-choosing col-wise multi-threading, the overhead of testing was 0.849064 seconds.\n",
            "You can set `force_col_wise=true` to remove the overhead.\n",
            "[LightGBM] [Info] Total Bins 43659\n",
            "[LightGBM] [Info] Number of data points in the train set: 4721548, number of used features: 15\n",
            "[LightGBM] [Info] [binary:BoostFromScore]: pavg=0.503293 -> initscore=0.013172\n",
            "[LightGBM] [Info] Start training from score 0.013172\n"
          ]
        }
      ]
    },
    {
      "cell_type": "markdown",
      "source": [
        "##Подсчет NDCG@20"
      ],
      "metadata": {
        "id": "H7NooUA2IBPd"
      }
    },
    {
      "cell_type": "code",
      "source": [
        "def ndcg_calc(kk, data):\n",
        "    scores = []\n",
        "    for query_id, group in data.groupby('msno'):\n",
        "        group = group.sort_values(by='pred', ascending=False)\n",
        "        y_true = group['target'].values.reshape(1, -1)\n",
        "        y_pred = group['pred'].values.reshape(1, -1)\n",
        "        try:\n",
        "            ndcg = ndcg_score(y_true, y_pred, k = kk)\n",
        "            scores.append(ndcg)\n",
        "        except ValueError:\n",
        "            continue\n",
        "    return np.mean(scores)"
      ],
      "metadata": {
        "id": "_2gj53vTG8YR"
      },
      "execution_count": 27,
      "outputs": []
    },
    {
      "cell_type": "code",
      "source": [
        "test_data = test[['msno']].copy()\n",
        "test_data['pred'] = scores / folds.n_splits\n",
        "test_data['target'] = test_target.astype(int)"
      ],
      "metadata": {
        "id": "4JAL3zBO66wC"
      },
      "execution_count": 31,
      "outputs": []
    },
    {
      "cell_type": "code",
      "source": [
        "ndcg_calc(20, test_data)"
      ],
      "metadata": {
        "colab": {
          "base_uri": "https://localhost:8080/"
        },
        "id": "ArbEKBQ5G1Xn",
        "outputId": "ae7a7d33-26a9-4e1a-dba7-b63ceaeb7687"
      },
      "execution_count": 33,
      "outputs": [
        {
          "output_type": "execute_result",
          "data": {
            "text/plain": [
              "0.6796460480204168"
            ]
          },
          "metadata": {},
          "execution_count": 33
        }
      ]
    }
  ]
}